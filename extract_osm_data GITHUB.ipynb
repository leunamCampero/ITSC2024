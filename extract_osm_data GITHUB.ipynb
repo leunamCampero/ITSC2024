{
 "cells": [
  {
   "cell_type": "markdown",
   "metadata": {},
   "source": [
    "### EXAMPLE\n",
    "\n",
    "This notebook reads the content of the extract to plot the network on the Grenoble metropolis area."
   ]
  },
  {
   "cell_type": "code",
   "execution_count": 1,
   "metadata": {},
   "outputs": [],
   "source": [
    "from ipyleaflet import Map, LayersControl, LayerGroup, GeoJSON, LegendControl, FullScreenControl, basemaps, WKTLayer\n",
    "import json\n",
    "from tqdm.auto import tqdm, trange\n",
    "from matplotlib import colormaps\n",
    "from matplotlib.colors import ListedColormap\n",
    "import numpy as np\n",
    "from shapely.geometry import shape, Polygon\n",
    "from collections import defaultdict"
   ]
  },
  {
   "cell_type": "code",
   "execution_count": 2,
   "metadata": {},
   "outputs": [],
   "source": [
    "# metropolis boundaries\n",
    "with open(\"./GRA_metropole.geojson\", 'r') as f:\n",
    "    metropole: Polygon = shape(json.load(f)[\"features\"][0][\"geometry\"])"
   ]
  },
  {
   "cell_type": "code",
   "execution_count": 3,
   "metadata": {},
   "outputs": [],
   "source": [
    "def clean(feature: dict) -> dict:\n",
    "    \"\"\"\n",
    "    Clean GeoJSON feature\n",
    "    \"\"\"\n",
    "    feature[\"properties\"] = {p:v for p,v in feature[\"properties\"].items() if v is not None}\n",
    "    if 'way' in feature['properties'].keys():\n",
    "        del feature['properties']['way']\n",
    "    return feature\n",
    "\n",
    "def rgb_to_hex(palette: tuple[int, int, int]) -> str:\n",
    "    \"\"\"\n",
    "    Convert RGB to hexadecimal\n",
    "    \"\"\"\n",
    "    palette = [int(255*x) for x in palette]\n",
    "    return '#{:02x}{:02x}{:02x}'. format(*palette)\n",
    "\n",
    "def parse_line(line: str) -> str:\n",
    "    \"\"\"\n",
    "    Clean a .csv line to read the content\n",
    "    \"\"\"\n",
    "    return line.replace(\"\\\"\\\"\",\"\\\"\").replace('\\n', '')"
   ]
  },
  {
   "cell_type": "code",
   "execution_count": 4,
   "metadata": {},
   "outputs": [
    {
     "data": {
      "application/vnd.jupyter.widget-view+json": {
       "model_id": "77abb9f17f2b4f53ac48d6b49369edc9",
       "version_major": 2,
       "version_minor": 0
      },
      "text/plain": [
       "  0%|          | 0/56 [00:00<?, ?it/s]"
      ]
     },
     "metadata": {},
     "output_type": "display_data"
    }
   ],
   "source": [
    "result_file = './extract/extract.txt'\n",
    "geo_features = defaultdict(list)\n",
    "\n",
    "# Read the extract file\n",
    "with open(result_file, 'r', encoding='ISO-8859-1') as f:\n",
    "    lines = f.readlines()\n",
    "\n",
    "for i in trange(len(lines) // 2):\n",
    "    geodata = parse_line(lines[2*i+1])\n",
    "    tag = parse_line(lines[2*i])\n",
    "\n",
    "    geo_line = json.loads(geodata[1:-1]) # remove the \"\" around the dict and parse it\n",
    "\n",
    "    # If there is no feature in the geojson, skip it\n",
    "    if geo_line['features'] is None: \n",
    "        continue\n",
    "    \n",
    "    # keep the feature if it is spatially related to the metropolis area\n",
    "    feature_list = geo_line[\"features\"]\n",
    "    res = []\n",
    "    for feature in feature_list:\n",
    "        poly = shape(feature['geometry'])\n",
    "        if  metropole.intersects(poly):\n",
    "            res.append(clean(feature))\n",
    "    geo_line[\"features\"] = res\n",
    "\n",
    "    # create a new GeoJSON feature in leaflet and add it to a new layer\n",
    "    geo_features[tag].append(geo_line)"
   ]
  },
  {
   "cell_type": "code",
   "execution_count": 5,
   "metadata": {},
   "outputs": [
    {
     "data": {
      "application/vnd.jupyter.widget-view+json": {
       "model_id": "183d5a7150af4f92aceb8e1f71505e08",
       "version_major": 2,
       "version_minor": 0
      },
      "text/plain": [
       "  0%|          | 0/48 [00:00<?, ?it/s]"
      ]
     },
     "metadata": {},
     "output_type": "display_data"
    },
    {
     "data": {
      "application/vnd.jupyter.widget-view+json": {
       "model_id": "54540486799c402c812f869e4f5cdbab",
       "version_major": 2,
       "version_minor": 0
      },
      "text/plain": [
       "Map(center=[45.141861063952376, 5.718250822399647], controls=(ZoomControl(options=['position', 'zoom_in_text',…"
      ]
     },
     "execution_count": 5,
     "metadata": {},
     "output_type": "execute_result"
    }
   ],
   "source": [
    "# prepare the map\n",
    "center = metropole.centroid.coords[0][::-1] \n",
    "m = Map(basemap=basemaps.Esri.WorldTopoMap, center=center)\n",
    "b = metropole.bounds\n",
    "bounds = [[b[1], b[0]], [b[3], b[2]]]\n",
    "m.fit_bounds(bounds)\n",
    "legend = LegendControl(legend={},name=\"Legend\", position=\"bottomright\")\n",
    "m.add_control(legend)\n",
    "\n",
    "# add Metropole boundaries\n",
    "m.add_layer(LayerGroup(layers=[WKTLayer(wkt_string=metropole.wkt)], name=\"Metropole\"))\n",
    "\n",
    "# setup color scale\n",
    "n = len(geo_features.keys())\n",
    "colormap = colormaps.get_cmap(\"hsv\")\n",
    "aux_array = np.linspace(0, 1, n)\n",
    "color_vector = ListedColormap(colormap(aux_array))\n",
    "roadPalette = {}\n",
    "for i in range(n):\n",
    "    roadPalette[sorted(list(geo_features.keys()))[i]] = color_vector.colors[i]\n",
    "\n",
    "\n",
    "# add all geodata\n",
    "for key, geojson_list in tqdm(sorted(list(geo_features.items()))):\n",
    "\n",
    "    color = rgb_to_hex(roadPalette[key])\n",
    "    legend.add_legend_element(key, color)\n",
    "    # create a new GeoJSON feature in leaflet and add it to a new layer\n",
    "    layer_group = LayerGroup(layers=[GeoJSON(data=geo_line, style={'color': color}) for geo_line in geojson_list], name=key)\n",
    "    m.add_layer(layer_group)\n",
    "\n",
    "# add controls\n",
    "control = LayersControl(position='topleft')\n",
    "m.add_control(control)\n",
    "m.add_control(FullScreenControl())\n",
    "\n",
    "# show the map\n",
    "m"
   ]
  },
  {
   "cell_type": "code",
   "execution_count": null,
   "metadata": {},
   "outputs": [],
   "source": []
  }
 ],
 "metadata": {
  "kernelspec": {
   "display_name": "Python 3 (ipykernel)",
   "language": "python",
   "name": "python3"
  },
  "language_info": {
   "codemirror_mode": {
    "name": "ipython",
    "version": 3
   },
   "file_extension": ".py",
   "mimetype": "text/x-python",
   "name": "python",
   "nbconvert_exporter": "python",
   "pygments_lexer": "ipython3",
   "version": "3.10.2"
  }
 },
 "nbformat": 4,
 "nbformat_minor": 2
}
